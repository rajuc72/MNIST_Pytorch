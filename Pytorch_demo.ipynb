{
  "nbformat": 4,
  "nbformat_minor": 0,
  "metadata": {
    "colab": {
      "provenance": [],
      "gpuType": "T4"
    },
    "kernelspec": {
      "name": "python3",
      "display_name": "Python 3"
    },
    "language_info": {
      "name": "python"
    },
    "accelerator": "GPU"
  },
  "cells": [
    {
      "cell_type": "markdown",
      "source": [
        "#Import libraries and Datasets"
      ],
      "metadata": {
        "id": "We7a0UVWhUku"
      }
    },
    {
      "cell_type": "code",
      "source": [
        "import torch\n",
        "import torch.nn as nn\n",
        "import torch.optim as optim\n",
        "from torchvision import datasets, transforms\n",
        "from torch.utils.data import DataLoader\n",
        "import torch.nn.functional as F\n",
        "\n",
        "#Dataset and DataLoader\n",
        "#transform pipelinne for MNIST dataset\n",
        "transform = transforms.Compose([\n",
        "    transforms.ToTensor(),\n",
        "    transforms.Normalize((0.5,), (0.5,))\n",
        "])\n",
        "\n",
        "#load the training and test datasets\n",
        "train_dataset = datasets.MNIST(root='./data', train=True, download=True, transform=transform)\n",
        "train_loader = DataLoader(dataset=train_dataset, batch_size=64, shuffle=True)\n",
        "\n",
        "test_dataset = datasets.MNIST(root='./data', train=False, download=True, transform=transform)\n",
        "test_loader = DataLoader(dataset=test_dataset, batch_size=64, shuffle=False)\n",
        "\n"
      ],
      "metadata": {
        "id": "XdKwXQdKHjBl"
      },
      "execution_count": 15,
      "outputs": []
    },
    {
      "cell_type": "markdown",
      "source": [
        "#Check the data"
      ],
      "metadata": {
        "id": "T6NGtLo0haWN"
      }
    },
    {
      "cell_type": "code",
      "source": [
        "\n",
        "#display some sample images\n",
        "import matplotlib.pyplot as plt\n",
        "fig, axes = plt.subplots(1, 10, figsize=(15, 2))\n",
        "for i in range(10,20):\n",
        "    axes[i-10].imshow(train_dataset[i][0].squeeze(), cmap='gray')\n",
        "    axes[i-10].set_title(train_dataset[i][1])\n",
        "    axes[i-10].axis('off')\n",
        "\n"
      ],
      "metadata": {
        "colab": {
          "base_uri": "https://localhost:8080/",
          "height": 157
        },
        "id": "jInodqSkH4ia",
        "outputId": "792d6d0d-7bfd-4641-c4b2-785641b5ec23"
      },
      "execution_count": 16,
      "outputs": [
        {
          "output_type": "display_data",
          "data": {
            "text/plain": [
              "<Figure size 1500x200 with 10 Axes>"
            ],
            "image/png": "[encoded data removed]"
          },
          "metadata": {}
        }
      ]
    },
    {
      "cell_type": "code",
      "source": [
        "# Get one batch from the DataLoader\n",
        "images, labels = next(iter(train_loader))\n",
        "\n",
        "# Print shapes\n",
        "print(f'Images shape: {images.shape}')\n",
        "print(f'Labels shape: {labels.shape}')"
      ],
      "metadata": {
        "colab": {
          "base_uri": "https://localhost:8080/"
        },
        "id": "zmpZBatEh43_",
        "outputId": "2c239f01-1936-4ca1-95ae-a2016b1a0d0f"
      },
      "execution_count": 22,
      "outputs": [
        {
          "output_type": "stream",
          "name": "stdout",
          "text": [
            "Images shape: torch.Size([64, 1, 28, 28])\n",
            "Labels shape: torch.Size([64])\n"
          ]
        }
      ]
    },
    {
      "cell_type": "markdown",
      "source": [
        "#Define neural network"
      ],
      "metadata": {
        "id": "kwD7R0A9hgP1"
      }
    },
    {
      "cell_type": "code",
      "source": [
        "# define a simple CNN model\n",
        "class SimpleCNN(nn.Module):\n",
        "    def __init__(self):\n",
        "      super(SimpleCNN, self).__init__()\n",
        "      self.conv1 = nn.Conv2d(1, 32, kernel_size=3)\n",
        "      self.conv2 = nn.Conv2d(32, 64, kernel_size=3)\n",
        "      self.pool=nn.MaxPool2d(2,2)\n",
        "      self.dropout=nn.Dropout(0.25)\n",
        "      self.fc1 = nn.Linear(1600, 128) #64*5*5\n",
        "      self.fc2 = nn.Linear(128, 10)\n",
        "\n",
        "\n",
        "    def forward(self, x):\n",
        "      x = self.pool(F.relu(self.conv1(x)))\n",
        "      x = self.pool(F.relu(self.dropout(self.conv2(x))))\n",
        "      x = x.view(x.size(0), -1)\n",
        "      x = F.relu(self.fc1(x))\n",
        "      x = self.fc2(x)\n",
        "      return F.softmax(x, dim=1)\n",
        "\n"
      ],
      "metadata": {
        "id": "6P4uQvKEIa6K"
      },
      "execution_count": 17,
      "outputs": []
    },
    {
      "cell_type": "markdown",
      "source": [
        "#Model Training"
      ],
      "metadata": {
        "id": "BNr_tOJchpCf"
      }
    },
    {
      "cell_type": "code",
      "source": [
        "\n",
        "\n",
        "\n",
        "# Training function\n",
        "def train(model,device, train_loader, optimizer, epoch):\n",
        "    model.train()\n",
        "    for batch_idx, (data, target) in enumerate(train_loader):\n",
        "        data, target = data.to(device), target.to(device)\n",
        "        optimizer.zero_grad()\n",
        "        output = model(data)\n",
        "        loss = criterion(output, target)\n",
        "        loss.backward()\n",
        "        optimizer.step()\n",
        "        if batch_idx % 100 == 0:\n",
        "            print(f'Epoch: {epoch+1}/{epoch}, Batch: {batch_idx+1}/{len(train_loader)}, Loss: {loss.item():.4f}')\n",
        "\n",
        "\n",
        "\n"
      ],
      "metadata": {
        "id": "dWTzh-SSIek_"
      },
      "execution_count": 18,
      "outputs": []
    },
    {
      "cell_type": "markdown",
      "source": [
        "#Model Testing"
      ],
      "metadata": {
        "id": "7dYpKzg0hrql"
      }
    },
    {
      "cell_type": "code",
      "source": [
        "# Testing function\n",
        "def test(model, test_loader):\n",
        "    model.eval()\n",
        "    correct = 0\n",
        "    total = 0\n",
        "    with torch.no_grad():\n",
        "        for images, labels in test_loader:\n",
        "            outputs = model(images)\n",
        "            _, predicted = torch.max(outputs.data, 1)\n",
        "            total += labels.size(0)\n",
        "            correct += (predicted == labels).sum().item()\n",
        "            accuracy = 100 * correct / total\n",
        "    print(f'Accuracy of the model on the test set: {accuracy:.2f}%')"
      ],
      "metadata": {
        "id": "T0QmfYLtwoiP"
      },
      "execution_count": 19,
      "outputs": []
    },
    {
      "cell_type": "markdown",
      "source": [
        "#Model initialization"
      ],
      "metadata": {
        "id": "SBUUIxYCiCCz"
      }
    },
    {
      "cell_type": "code",
      "source": [
        "# Initialize the model, loss function, and optimizer\n",
        "\n",
        "model = SimpleCNN()\n",
        "criterion = nn.CrossEntropyLoss()\n",
        "optimizer = optim.Adam(model.parameters(), lr=0.001)\n",
        "\n",
        "device=torch.device('cuda' if torch.cuda.is_available() else 'cpu')\n",
        "model.to(device)\n",
        "\n",
        "for epoch in range(4):\n",
        "    train(model, device, train_loader, optimizer, epoch)\n",
        "    test(model, test_loader)\n"
      ],
      "metadata": {
        "id": "O3DIA5erbqp8",
        "colab": {
          "base_uri": "https://localhost:8080/"
        },
        "outputId": "e38e7e48-3aa6-4eaa-882f-fb6f9585cf01"
      },
      "execution_count": 21,
      "outputs": [
        {
          "output_type": "stream",
          "name": "stdout",
          "text": [
            "Epoch: 1/0, Batch: 1/938, Loss: 2.3035\n",
            "Epoch: 1/0, Batch: 101/938, Loss: 1.6525\n",
            "Epoch: 1/0, Batch: 201/938, Loss: 1.6710\n",
            "Epoch: 1/0, Batch: 301/938, Loss: 1.6428\n",
            "Epoch: 1/0, Batch: 401/938, Loss: 1.5212\n",
            "Epoch: 1/0, Batch: 501/938, Loss: 1.4702\n",
            "Epoch: 1/0, Batch: 601/938, Loss: 1.5249\n",
            "Epoch: 1/0, Batch: 701/938, Loss: 1.4783\n",
            "Epoch: 1/0, Batch: 801/938, Loss: 1.4944\n",
            "Epoch: 1/0, Batch: 901/938, Loss: 1.5092\n",
            "Accuracy of the model on the test set: 97.45%\n",
            "Epoch: 2/1, Batch: 1/938, Loss: 1.4680\n",
            "Epoch: 2/1, Batch: 101/938, Loss: 1.4632\n",
            "Epoch: 2/1, Batch: 201/938, Loss: 1.4657\n",
            "Epoch: 2/1, Batch: 301/938, Loss: 1.4726\n",
            "Epoch: 2/1, Batch: 401/938, Loss: 1.4782\n",
            "Epoch: 2/1, Batch: 501/938, Loss: 1.4903\n",
            "Epoch: 2/1, Batch: 601/938, Loss: 1.5240\n",
            "Epoch: 2/1, Batch: 701/938, Loss: 1.4633\n",
            "Epoch: 2/1, Batch: 801/938, Loss: 1.4771\n",
            "Epoch: 2/1, Batch: 901/938, Loss: 1.4736\n",
            "Accuracy of the model on the test set: 98.23%\n",
            "Epoch: 3/2, Batch: 1/938, Loss: 1.4954\n",
            "Epoch: 3/2, Batch: 101/938, Loss: 1.4665\n",
            "Epoch: 3/2, Batch: 201/938, Loss: 1.4675\n",
            "Epoch: 3/2, Batch: 301/938, Loss: 1.4681\n",
            "Epoch: 3/2, Batch: 401/938, Loss: 1.4817\n",
            "Epoch: 3/2, Batch: 501/938, Loss: 1.4902\n",
            "Epoch: 3/2, Batch: 601/938, Loss: 1.4768\n",
            "Epoch: 3/2, Batch: 701/938, Loss: 1.4878\n",
            "Epoch: 3/2, Batch: 801/938, Loss: 1.4759\n",
            "Epoch: 3/2, Batch: 901/938, Loss: 1.4924\n",
            "Accuracy of the model on the test set: 98.24%\n",
            "Epoch: 4/3, Batch: 1/938, Loss: 1.4635\n",
            "Epoch: 4/3, Batch: 101/938, Loss: 1.4625\n",
            "Epoch: 4/3, Batch: 201/938, Loss: 1.4936\n",
            "Epoch: 4/3, Batch: 301/938, Loss: 1.4645\n",
            "Epoch: 4/3, Batch: 401/938, Loss: 1.4757\n",
            "Epoch: 4/3, Batch: 501/938, Loss: 1.4612\n",
            "Epoch: 4/3, Batch: 601/938, Loss: 1.4625\n",
            "Epoch: 4/3, Batch: 701/938, Loss: 1.4997\n",
            "Epoch: 4/3, Batch: 801/938, Loss: 1.4768\n",
            "Epoch: 4/3, Batch: 901/938, Loss: 1.4612\n",
            "Accuracy of the model on the test set: 98.74%\n"
          ]
        }
      ]
    },
    {
      "cell_type": "markdown",
      "source": [
        "#Save and Load"
      ],
      "metadata": {
        "id": "kMrAjv-BjHwV"
      }
    },
    {
      "cell_type": "code",
      "source": [
        "torch.save(model.state_dict(), 'simple_cnn.pth')\n"
      ],
      "metadata": {
        "id": "HfAouBc8jLAI"
      },
      "execution_count": 23,
      "outputs": []
    },
    {
      "cell_type": "code",
      "source": [
        "model = SimpleCNN()                     # Recreate the model\n",
        "model.load_state_dict(torch.load('simple_cnn.pth'))  # Load weights\n",
        "model.to(device)                        # Move to GPU if available\n",
        "model.eval()                            # Set to evaluation mode\n",
        "\n",
        "test(model, test_loader)"
      ],
      "metadata": {
        "id": "Z9QByI6cjhbf"
      },
      "execution_count": null,
      "outputs": []
    }
  ]
}