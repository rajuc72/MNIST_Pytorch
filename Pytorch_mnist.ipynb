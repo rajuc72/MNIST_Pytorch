{
  "nbformat": 4,
  "nbformat_minor": 0,
  "metadata": {
    "colab": {
      "provenance": [],
      "gpuType": "T4",
      "authorship_tag": "ABX9TyOOo5FhTeCh/OAFcP4cGKUk"
    },
    "kernelspec": {
      "name": "python3",
      "display_name": "Python 3"
    },
    "language_info": {
      "name": "python"
    },
    "accelerator": "GPU"
  },
  "cells": [
    {
      "cell_type": "markdown",
      "source": [
        "#Import libraries and Datasets"
      ],
      "metadata": {
        "id": "We7a0UVWhUku"
      }
    },
    {
      "cell_type": "code",
      "source": [
        "import torch\n",
        "import torch.nn as nn\n",
        "import torch.optim as optim\n",
        "from torchvision import datasets, transforms\n",
        "from torch.utils.data import DataLoader\n",
        "import torch.nn.functional as F\n",
        "\n",
        "#Dataset and DataLoader\n",
        "#transform pipelinne for MNIST dataset\n",
        "transform = transforms.Compose([\n",
        "    transforms.ToTensor(),\n",
        "    transforms.Normalize((0.5,), (0.5,))\n",
        "])\n",
        "\n",
        "#load the training and test datasets\n",
        "train_dataset = datasets.MNIST(root='./data', train=True, download=True, transform=transform)\n",
        "train_loader = DataLoader(dataset=train_dataset, batch_size=64, shuffle=True)\n",
        "\n",
        "test_dataset = datasets.MNIST(root='./data', train=False, download=True, transform=transform)\n",
        "test_loader = DataLoader(dataset=test_dataset, batch_size=64, shuffle=False)\n",
        "\n"
      ],
      "metadata": {
        "id": "XdKwXQdKHjBl",
        "colab": {
          "base_uri": "https://localhost:8080/"
        },
        "outputId": "eece7160-8605-454a-f9cc-b931dad6c084"
      },
      "execution_count": 3,
      "outputs": [
        {
          "output_type": "stream",
          "name": "stderr",
          "text": [
            "100%|██████████| 9.91M/9.91M [00:00<00:00, 124MB/s]\n",
            "100%|██████████| 28.9k/28.9k [00:00<00:00, 31.2MB/s]\n",
            "100%|██████████| 1.65M/1.65M [00:00<00:00, 59.0MB/s]\n",
            "100%|██████████| 4.54k/4.54k [00:00<00:00, 5.82MB/s]\n"
          ]
        }
      ]
    },
    {
      "cell_type": "markdown",
      "source": [
        "#Check the data"
      ],
      "metadata": {
        "id": "T6NGtLo0haWN"
      }
    },
    {
      "cell_type": "code",
      "source": [
        "\n",
        "#display some sample images\n",
        "import matplotlib.pyplot as plt\n",
        "fig, axes = plt.subplots(1, 10, figsize=(15, 2))\n",
        "for i in range(10,20):\n",
        "    axes[i-10].imshow(train_dataset[i][0].squeeze(), cmap='gray')\n",
        "    axes[i-10].set_title(train_dataset[i][1])\n",
        "    axes[i-10].axis('off')\n",
        "\n"
      ],
      "metadata": {
        "colab": {
          "base_uri": "https://localhost:8080/",
          "height": 157
        },
        "id": "jInodqSkH4ia",
        "outputId": "e4ee0fde-66a6-420e-cc0d-c5b1532d750e"
      },
      "execution_count": 4,
      "outputs": [
        {
          "output_type": "display_data",
          "data": {
            "text/plain": [
              "<Figure size 1500x200 with 10 Axes>"
            ],
            "image/png": "[encoded data removed]"
          },
          "metadata": {}
        }
      ]
    },
    {
      "cell_type": "code",
      "source": [
        "# Get one batch from the DataLoader\n",
        "images, labels = next(iter(train_loader))\n",
        "\n",
        "# Print shapes\n",
        "print(f'Images shape: {images.shape}')\n",
        "print(f'Labels shape: {labels.shape}')"
      ],
      "metadata": {
        "colab": {
          "base_uri": "https://localhost:8080/"
        },
        "id": "zmpZBatEh43_",
        "outputId": "e2ac0211-f7de-47a5-ce89-5709574fed1a"
      },
      "execution_count": 5,
      "outputs": [
        {
          "output_type": "stream",
          "name": "stdout",
          "text": [
            "Images shape: torch.Size([64, 1, 28, 28])\n",
            "Labels shape: torch.Size([64])\n"
          ]
        }
      ]
    },
    {
      "cell_type": "markdown",
      "source": [
        "#Define neural network"
      ],
      "metadata": {
        "id": "kwD7R0A9hgP1"
      }
    },
    {
      "cell_type": "code",
      "source": [
        "# define a simple CNN model\n",
        "class SimpleCNN(nn.Module):\n",
        "    def __init__(self):\n",
        "      super(SimpleCNN, self).__init__()\n",
        "      self.conv1 = nn.Conv2d(1, 32, kernel_size=3)\n",
        "      self.conv2 = nn.Conv2d(32, 64, kernel_size=3)\n",
        "      self.pool=nn.MaxPool2d(2,2)\n",
        "      self.dropout=nn.Dropout(0.25)\n",
        "      self.fc1 = nn.Linear(1600, 128) #64*5*5\n",
        "      self.fc2 = nn.Linear(128, 10)\n",
        "\n",
        "\n",
        "    def forward(self, x):\n",
        "      x = self.pool(F.relu(self.conv1(x)))\n",
        "      x = self.pool(F.relu(self.dropout(self.conv2(x))))\n",
        "      x = x.view(x.size(0), -1)\n",
        "      x = F.relu(self.fc1(x))\n",
        "      x = self.fc2(x)\n",
        "      return F.softmax(x, dim=1)\n",
        "\n"
      ],
      "metadata": {
        "id": "6P4uQvKEIa6K"
      },
      "execution_count": 6,
      "outputs": []
    },
    {
      "cell_type": "markdown",
      "source": [
        "#Model Training"
      ],
      "metadata": {
        "id": "BNr_tOJchpCf"
      }
    },
    {
      "cell_type": "code",
      "source": [
        "\n",
        "\n",
        "\n",
        "# Training function\n",
        "def train(model,device, train_loader, optimizer, epoch):\n",
        "    model.train()\n",
        "    for batch_idx, (data, target) in enumerate(train_loader):\n",
        "        data, target = data.to(device), target.to(device)\n",
        "        optimizer.zero_grad()\n",
        "        output = model(data)\n",
        "        loss = criterion(output, target)\n",
        "        loss.backward()\n",
        "        optimizer.step()\n",
        "        if batch_idx % 100 == 0:\n",
        "            print(f'Epoch: {epoch+1}/{epoch}, Batch: {batch_idx+1}/{len(train_loader)}, Loss: {loss.item():.4f}')\n",
        "\n",
        "\n",
        "\n"
      ],
      "metadata": {
        "id": "dWTzh-SSIek_"
      },
      "execution_count": 7,
      "outputs": []
    },
    {
      "cell_type": "markdown",
      "source": [
        "#Model Testing"
      ],
      "metadata": {
        "id": "7dYpKzg0hrql"
      }
    },
    {
      "cell_type": "code",
      "source": [
        "# Testing function\n",
        "def test(model, test_loader):\n",
        "    model.eval()\n",
        "    correct = 0\n",
        "    total = 0\n",
        "    with torch.no_grad():\n",
        "        for images, labels in test_loader:\n",
        "            outputs = model(images)\n",
        "            _, predicted = torch.max(outputs.data, 1)\n",
        "            total += labels.size(0)\n",
        "            correct += (predicted == labels).sum().item()\n",
        "            accuracy = 100 * correct / total\n",
        "    print(f'Accuracy of the model on the test set: {accuracy:.2f}%')"
      ],
      "metadata": {
        "id": "T0QmfYLtwoiP"
      },
      "execution_count": 8,
      "outputs": []
    },
    {
      "cell_type": "markdown",
      "source": [
        "#Model initialization"
      ],
      "metadata": {
        "id": "SBUUIxYCiCCz"
      }
    },
    {
      "cell_type": "code",
      "source": [
        "# Initialize the model, loss function, and optimizer\n",
        "\n",
        "model = SimpleCNN()\n",
        "criterion = nn.CrossEntropyLoss()\n",
        "optimizer = optim.Adam(model.parameters(), lr=0.001)\n",
        "\n",
        "device=torch.device('cuda' if torch.cuda.is_available() else 'cpu')\n",
        "model.to(device)\n",
        "\n",
        "for epoch in range(4):\n",
        "    train(model, device, train_loader, optimizer, epoch)\n",
        "    test(model, test_loader)\n"
      ],
      "metadata": {
        "id": "O3DIA5erbqp8",
        "colab": {
          "base_uri": "https://localhost:8080/"
        },
        "outputId": "30d14845-b15e-47ee-aadb-5ce8479969c1"
      },
      "execution_count": 9,
      "outputs": [
        {
          "output_type": "stream",
          "name": "stdout",
          "text": [
            "Epoch: 1/0, Batch: 1/938, Loss: 2.3037\n",
            "Epoch: 1/0, Batch: 101/938, Loss: 1.6209\n",
            "Epoch: 1/0, Batch: 201/938, Loss: 1.5709\n",
            "Epoch: 1/0, Batch: 301/938, Loss: 1.6461\n",
            "Epoch: 1/0, Batch: 401/938, Loss: 1.5768\n",
            "Epoch: 1/0, Batch: 501/938, Loss: 1.5545\n",
            "Epoch: 1/0, Batch: 601/938, Loss: 1.5899\n",
            "Epoch: 1/0, Batch: 701/938, Loss: 1.6048\n",
            "Epoch: 1/0, Batch: 801/938, Loss: 1.5195\n",
            "Epoch: 1/0, Batch: 901/938, Loss: 1.4739\n",
            "Accuracy of the model on the test set: 97.68%\n",
            "Epoch: 2/1, Batch: 1/938, Loss: 1.4902\n",
            "Epoch: 2/1, Batch: 101/938, Loss: 1.4872\n",
            "Epoch: 2/1, Batch: 201/938, Loss: 1.4741\n",
            "Epoch: 2/1, Batch: 301/938, Loss: 1.4774\n",
            "Epoch: 2/1, Batch: 401/938, Loss: 1.4675\n",
            "Epoch: 2/1, Batch: 501/938, Loss: 1.4891\n",
            "Epoch: 2/1, Batch: 601/938, Loss: 1.4915\n",
            "Epoch: 2/1, Batch: 701/938, Loss: 1.4612\n",
            "Epoch: 2/1, Batch: 801/938, Loss: 1.4612\n",
            "Epoch: 2/1, Batch: 901/938, Loss: 1.4830\n",
            "Accuracy of the model on the test set: 98.54%\n",
            "Epoch: 3/2, Batch: 1/938, Loss: 1.4711\n",
            "Epoch: 3/2, Batch: 101/938, Loss: 1.4831\n",
            "Epoch: 3/2, Batch: 201/938, Loss: 1.4629\n",
            "Epoch: 3/2, Batch: 301/938, Loss: 1.4930\n",
            "Epoch: 3/2, Batch: 401/938, Loss: 1.4940\n",
            "Epoch: 3/2, Batch: 501/938, Loss: 1.4955\n",
            "Epoch: 3/2, Batch: 601/938, Loss: 1.4908\n",
            "Epoch: 3/2, Batch: 701/938, Loss: 1.4768\n",
            "Epoch: 3/2, Batch: 801/938, Loss: 1.4701\n",
            "Epoch: 3/2, Batch: 901/938, Loss: 1.4769\n",
            "Accuracy of the model on the test set: 98.50%\n",
            "Epoch: 4/3, Batch: 1/938, Loss: 1.4718\n",
            "Epoch: 4/3, Batch: 101/938, Loss: 1.4898\n",
            "Epoch: 4/3, Batch: 201/938, Loss: 1.4614\n",
            "Epoch: 4/3, Batch: 301/938, Loss: 1.4973\n",
            "Epoch: 4/3, Batch: 401/938, Loss: 1.5072\n",
            "Epoch: 4/3, Batch: 501/938, Loss: 1.4636\n",
            "Epoch: 4/3, Batch: 601/938, Loss: 1.4710\n",
            "Epoch: 4/3, Batch: 701/938, Loss: 1.4746\n",
            "Epoch: 4/3, Batch: 801/938, Loss: 1.4880\n",
            "Epoch: 4/3, Batch: 901/938, Loss: 1.4621\n",
            "Accuracy of the model on the test set: 98.37%\n"
          ]
        }
      ]
    },
    {
      "cell_type": "markdown",
      "source": [
        "#Save and Load"
      ],
      "metadata": {
        "id": "kMrAjv-BjHwV"
      }
    },
    {
      "cell_type": "code",
      "source": [
        "torch.save(model.state_dict(), 'simple_cnn.pth')\n"
      ],
      "metadata": {
        "id": "HfAouBc8jLAI"
      },
      "execution_count": 10,
      "outputs": []
    },
    {
      "cell_type": "code",
      "source": [
        "model_test = SimpleCNN().to(device)                     # Recreate the model\n",
        "model_test.load_state_dict(torch.load('simple_cnn.pth'))  # Load weights\n",
        "model_test.eval()                                       # Set the model to evaluation mode\n"
      ],
      "metadata": {
        "colab": {
          "base_uri": "https://localhost:8080/"
        },
        "id": "Z9QByI6cjhbf",
        "outputId": "120cb343-96d4-4425-f916-5636d5f39ef2"
      },
      "execution_count": 17,
      "outputs": [
        {
          "output_type": "execute_result",
          "data": {
            "text/plain": [
              "SimpleCNN(\n",
              "  (conv1): Conv2d(1, 32, kernel_size=(3, 3), stride=(1, 1))\n",
              "  (conv2): Conv2d(32, 64, kernel_size=(3, 3), stride=(1, 1))\n",
              "  (pool): MaxPool2d(kernel_size=2, stride=2, padding=0, dilation=1, ceil_mode=False)\n",
              "  (dropout): Dropout(p=0.25, inplace=False)\n",
              "  (fc1): Linear(in_features=1600, out_features=128, bias=True)\n",
              "  (fc2): Linear(in_features=128, out_features=10, bias=True)\n",
              ")"
            ]
          },
          "metadata": {},
          "execution_count": 17
        }
      ]
    },
    {
      "cell_type": "code",
      "source": [
        "def predict(model, device, data_loader, num_samples=6):\n",
        "    model.eval()\n",
        "    images, labels = next(iter(data_loader)) # Use the passed data_loader\n",
        "    images = images.to(device)\n",
        "    labels = labels.to(device)\n",
        "    with torch.no_grad():\n",
        "        output = model(images)\n",
        "        _, predicted = torch.max(output.data, 1)\n",
        "\n",
        "    fig, axes = plt.subplots(1, num_samples, figsize=(15, 2))\n",
        "    for i in range(num_samples):\n",
        "        axes[i].imshow(images[i].squeeze().cpu().numpy(), cmap='gray')\n",
        "        axes[i].set_title(f'Predicted: {predicted[i].item()}, Actual: {labels[i].item()}')\n",
        "        axes[i].axis('off')\n",
        "    plt.show() # Show the plot once after the loop\n",
        "\n",
        "    return predicted # Return the predicted labels for the batch\n",
        "\n",
        "predict(model_test, device, test_loader)\n"
      ],
      "metadata": {
        "colab": {
          "base_uri": "https://localhost:8080/",
          "height": 265
        },
        "id": "m_Uq58iNzCXg",
        "outputId": "39b19b47-29d6-4ae1-e698-a59cf16c22e8"
      },
      "execution_count": 22,
      "outputs": [
        {
          "output_type": "display_data",
          "data": {
            "text/plain": [
              "<Figure size 1500x200 with 6 Axes>"
            ],
            "image/png": "[encoded data removed]"
          },
          "metadata": {}
        },
        {
          "output_type": "execute_result",
          "data": {
            "text/plain": [
              "tensor([7, 2, 1, 0, 4, 1, 4, 9, 5, 9, 0, 6, 9, 0, 1, 5, 9, 7, 8, 4, 9, 6, 6, 5,\n",
              "        4, 0, 7, 4, 0, 1, 3, 1, 3, 4, 7, 2, 7, 1, 2, 1, 1, 7, 4, 2, 3, 5, 1, 2,\n",
              "        4, 4, 6, 3, 5, 5, 6, 0, 4, 1, 9, 5, 7, 8, 5, 3])"
            ]
          },
          "metadata": {},
          "execution_count": 22
        }
      ]
    }
  ]
}